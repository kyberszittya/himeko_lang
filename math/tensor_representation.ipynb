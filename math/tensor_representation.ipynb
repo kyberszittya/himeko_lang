{
 "cells": [
  {
   "cell_type": "markdown",
   "source": [
    "# Tensor representation\n",
    "\n",
    "## Simple example"
   ],
   "metadata": {
    "collapsed": false,
    "pycharm": {
     "name": "#%% md\n"
    }
   }
  },
  {
   "cell_type": "code",
   "execution_count": 1,
   "outputs": [],
   "source": [
    "import numpy as np"
   ],
   "metadata": {
    "collapsed": false,
    "pycharm": {
     "name": "#%%\n"
    }
   }
  },
  {
   "cell_type": "code",
   "execution_count": 2,
   "outputs": [],
   "source": [
    "A = np.array([[0, 0, 0], [1, 0, 1], [1, 0, 0]])\n",
    "E = np.array([[1, 1, 0], [-1, 0, -1], [0, -1, 1]])"
   ],
   "metadata": {
    "collapsed": false,
    "pycharm": {
     "name": "#%%\n"
    }
   }
  },
  {
   "cell_type": "code",
   "execution_count": 3,
   "outputs": [
    {
     "data": {
      "text/plain": "array([[0, 0, 0],\n       [1, 0, 1],\n       [1, 0, 0]])"
     },
     "execution_count": 3,
     "metadata": {},
     "output_type": "execute_result"
    }
   ],
   "source": [
    "A"
   ],
   "metadata": {
    "collapsed": false,
    "pycharm": {
     "name": "#%%\n"
    }
   }
  },
  {
   "cell_type": "code",
   "execution_count": 4,
   "outputs": [],
   "source": [
    "e1 = np.array([[0, 0, 0], [1, 0, 0], [0, 0, 0]])\n",
    "e2 = np.array([[0, 0, 0], [0, 0, 0], [1, 0, 0]])\n",
    "e3 = np.array([[0, 0, 0], [0, 0, 1], [0, 0, 0]])"
   ],
   "metadata": {
    "collapsed": false,
    "pycharm": {
     "name": "#%%\n"
    }
   }
  },
  {
   "cell_type": "code",
   "execution_count": 5,
   "outputs": [],
   "source": [
    "T = np.array([e1,e2,e3])"
   ],
   "metadata": {
    "collapsed": false,
    "pycharm": {
     "name": "#%%\n"
    }
   }
  },
  {
   "cell_type": "code",
   "execution_count": 6,
   "outputs": [
    {
     "data": {
      "text/plain": "array([[[0, 0, 0],\n        [1, 0, 0],\n        [0, 0, 0]],\n\n       [[0, 0, 0],\n        [0, 0, 0],\n        [1, 0, 0]],\n\n       [[0, 0, 0],\n        [0, 0, 1],\n        [0, 0, 0]]])"
     },
     "execution_count": 6,
     "metadata": {},
     "output_type": "execute_result"
    }
   ],
   "source": [
    "T"
   ],
   "metadata": {
    "collapsed": false,
    "pycharm": {
     "name": "#%%\n"
    }
   }
  },
  {
   "cell_type": "code",
   "execution_count": 8,
   "outputs": [
    {
     "data": {
      "text/plain": "array([[0, 0, 0],\n       [1, 0, 1],\n       [1, 0, 0]])"
     },
     "execution_count": 8,
     "metadata": {},
     "output_type": "execute_result"
    }
   ],
   "source": [
    "np.sum(T, axis=0)"
   ],
   "metadata": {
    "collapsed": false,
    "pycharm": {
     "name": "#%%\n"
    }
   }
  },
  {
   "cell_type": "code",
   "execution_count": 9,
   "outputs": [
    {
     "data": {
      "text/plain": "array([[[ 0,  0,  0],\n        [ 1,  1,  0],\n        [ 0,  0,  0]],\n\n       [[ 0,  0,  0],\n        [ 0,  0,  0],\n        [ 1,  1,  0]],\n\n       [[ 0,  0,  0],\n        [ 0, -1,  1],\n        [ 0,  0,  0]]])"
     },
     "execution_count": 9,
     "metadata": {},
     "output_type": "execute_result"
    }
   ],
   "source": [
    "T@E"
   ],
   "metadata": {
    "collapsed": false,
    "pycharm": {
     "name": "#%%\n"
    }
   }
  },
  {
   "cell_type": "code",
   "execution_count": 17,
   "outputs": [
    {
     "data": {
      "text/plain": "array([[[ 0,  0,  0],\n        [ 1,  1,  0],\n        [ 0,  0,  0]],\n\n       [[ 0,  0,  0],\n        [ 0,  0,  0],\n        [ 1,  1,  0]],\n\n       [[ 0,  0,  0],\n        [ 0, -1,  1],\n        [ 0,  0,  0]]])"
     },
     "execution_count": 17,
     "metadata": {},
     "output_type": "execute_result"
    }
   ],
   "source": [
    "np.tensordot(T, E, axes=1)"
   ],
   "metadata": {
    "collapsed": false,
    "pycharm": {
     "name": "#%%\n"
    }
   }
  },
  {
   "cell_type": "code",
   "execution_count": 18,
   "outputs": [],
   "source": [
    "x_e1 = np.array([[0, -1, 0], [1, 0, 0], [0, 0, 0]])\n",
    "x_e2 = np.array([[0, 0, -1], [0, 0, 0], [1, 0, 0]])\n",
    "x_e3 = np.array([[0, 0, 0], [0, 0, 1], [0, -1, 0]])"
   ],
   "metadata": {
    "collapsed": false,
    "pycharm": {
     "name": "#%%\n"
    }
   }
  },
  {
   "cell_type": "code",
   "execution_count": 19,
   "outputs": [],
   "source": [
    "Tx = np.array([x_e1,x_e2,x_e3])"
   ],
   "metadata": {
    "collapsed": false,
    "pycharm": {
     "name": "#%%\n"
    }
   }
  },
  {
   "cell_type": "code",
   "execution_count": 21,
   "outputs": [
    {
     "data": {
      "text/plain": "array([[ 0, -1, -1],\n       [ 1,  0,  1],\n       [ 1, -1,  0]])"
     },
     "execution_count": 21,
     "metadata": {},
     "output_type": "execute_result"
    }
   ],
   "source": [
    "np.sum(Tx, axis=0)"
   ],
   "metadata": {
    "collapsed": false,
    "pycharm": {
     "name": "#%%\n"
    }
   }
  },
  {
   "cell_type": "code",
   "execution_count": 56,
   "outputs": [
    {
     "data": {
      "text/plain": "array([-2,  0,  0])"
     },
     "execution_count": 56,
     "metadata": {},
     "output_type": "execute_result"
    }
   ],
   "source": [
    "np.tensordot(Tx, E, axes=2)"
   ],
   "metadata": {
    "collapsed": false,
    "pycharm": {
     "name": "#%%\n"
    }
   }
  },
  {
   "cell_type": "code",
   "execution_count": 55,
   "outputs": [
    {
     "data": {
      "text/plain": "array([1, 1, 1])"
     },
     "execution_count": 55,
     "metadata": {},
     "output_type": "execute_result"
    }
   ],
   "source": [],
   "metadata": {
    "collapsed": false,
    "pycharm": {
     "name": "#%%\n"
    }
   }
  },
  {
   "cell_type": "code",
   "execution_count": 27,
   "outputs": [
    {
     "data": {
      "text/plain": "array([[0, 0, 0],\n       [1, 0, 1],\n       [1, 0, 0]])"
     },
     "execution_count": 27,
     "metadata": {},
     "output_type": "execute_result"
    }
   ],
   "source": [
    "np.max(Tx, 0)"
   ],
   "metadata": {
    "collapsed": false,
    "pycharm": {
     "name": "#%%\n"
    }
   }
  },
  {
   "cell_type": "code",
   "execution_count": 29,
   "outputs": [
    {
     "data": {
      "text/plain": "array([[[ 0, -1,  0],\n        [ 1,  0,  0],\n        [ 0,  0,  0]],\n\n       [[ 0,  0, -1],\n        [ 0,  0,  0],\n        [ 1,  0,  0]],\n\n       [[ 0,  0,  0],\n        [ 0,  0,  1],\n        [ 0, -1,  0]]])"
     },
     "execution_count": 29,
     "metadata": {},
     "output_type": "execute_result"
    }
   ],
   "source": [
    "Tx"
   ],
   "metadata": {
    "collapsed": false,
    "pycharm": {
     "name": "#%%\n"
    }
   }
  },
  {
   "cell_type": "code",
   "execution_count": 31,
   "outputs": [],
   "source": [
    "TxP = np.max(Tx, 0)\n",
    "TxN = np.min(Tx, 0)"
   ],
   "metadata": {
    "collapsed": false,
    "pycharm": {
     "name": "#%%\n"
    }
   }
  },
  {
   "cell_type": "code",
   "execution_count": 71,
   "outputs": [
    {
     "data": {
      "text/plain": "array([[ 1,  1,  0],\n       [-1,  0, -1],\n       [ 0, -1,  1]])"
     },
     "execution_count": 71,
     "metadata": {},
     "output_type": "execute_result"
    }
   ],
   "source": [
    "np.sum(Tx, axis=1).T"
   ],
   "metadata": {
    "collapsed": false,
    "pycharm": {
     "name": "#%%\n"
    }
   }
  },
  {
   "cell_type": "code",
   "execution_count": 78,
   "outputs": [
    {
     "data": {
      "text/plain": "array([[0, 0, 0],\n       [1, 0, 1],\n       [1, 0, 0]])"
     },
     "execution_count": 78,
     "metadata": {},
     "output_type": "execute_result"
    }
   ],
   "source": [
    "np.max(Tx, 0)"
   ],
   "metadata": {
    "collapsed": false,
    "pycharm": {
     "name": "#%%\n"
    }
   }
  },
  {
   "cell_type": "markdown",
   "source": [
    "## Other example"
   ],
   "metadata": {
    "collapsed": false,
    "pycharm": {
     "name": "#%% md\n"
    }
   }
  },
  {
   "cell_type": "code",
   "execution_count": 82,
   "outputs": [],
   "source": [
    "x1_e1 = np.array([[0, 1, 0], [-1, 0, 0], [0, 0, 0]])\n",
    "x1_e2 = np.array([[0, 0, 0], [0, 0, 1], [0, -1, 0]])\n",
    "x1_e3 = np.array([[0, 0, -1], [0, 0, 0], [1, 0, 0]])"
   ],
   "metadata": {
    "collapsed": false,
    "pycharm": {
     "name": "#%%\n"
    }
   }
  },
  {
   "cell_type": "code",
   "execution_count": 83,
   "outputs": [],
   "source": [
    "Tx1 = np.array([x1_e1,x1_e2,x1_e3])"
   ],
   "metadata": {
    "collapsed": false,
    "pycharm": {
     "name": "#%%\n"
    }
   }
  },
  {
   "cell_type": "code",
   "execution_count": 85,
   "outputs": [
    {
     "data": {
      "text/plain": "array([[0, 1, 0],\n       [0, 0, 1],\n       [1, 0, 0]])"
     },
     "execution_count": 85,
     "metadata": {},
     "output_type": "execute_result"
    }
   ],
   "source": [
    "np.max(Tx1, 0)"
   ],
   "metadata": {
    "collapsed": false,
    "pycharm": {
     "name": "#%%\n"
    }
   }
  },
  {
   "cell_type": "code",
   "execution_count": 89,
   "outputs": [
    {
     "data": {
      "text/plain": "array([[-1,  0,  1],\n       [ 1, -1,  0],\n       [ 0,  1, -1]])"
     },
     "execution_count": 89,
     "metadata": {},
     "output_type": "execute_result"
    }
   ],
   "source": [
    "np.sum(Tx1, axis=1).T"
   ],
   "metadata": {
    "collapsed": false,
    "pycharm": {
     "name": "#%%\n"
    }
   }
  },
  {
   "cell_type": "markdown",
   "source": [
    "## Other examples (4 nodes)"
   ],
   "metadata": {
    "collapsed": false,
    "pycharm": {
     "name": "#%% md\n"
    }
   }
  },
  {
   "cell_type": "code",
   "execution_count": 198,
   "outputs": [],
   "source": [
    "x2_e1 = np.array([[0, 1, 0, 0],\n",
    "                  [-1, 0, 0, 0],\n",
    "                  [0, 0, 0, 0],\n",
    "                  [0, 0, 0, 0]])\n",
    "x2_e2 = np.array([[0, 0, 0, 0],\n",
    "                  [0, 0, 1, 0],\n",
    "                  [0, -1, 0, 0],\n",
    "                  [0, 0, 0, 0]])\n",
    "x2_e3 = np.array([[0, 0, 0, 0],\n",
    "                  [0, 0, 0, 0],\n",
    "                  [0, 0, 0, 1],\n",
    "                  [0, 0, -1, 0]])\n",
    "x2_e4 = np.array([[0, 0, 0, -1],\n",
    "                  [0, 0, 0, 0],\n",
    "                  [0, 0, 0, 0],\n",
    "                  [1, 0, 0, 0]])\n",
    "x2_e5 = np.array([[0, 0, -1, 0],\n",
    "                  [0, 0, 0, 0],\n",
    "                  [1, 0, 0, 0],\n",
    "                  [0, 0, 0, 0]])"
   ],
   "metadata": {
    "collapsed": false,
    "pycharm": {
     "name": "#%%\n"
    }
   }
  },
  {
   "cell_type": "code",
   "execution_count": 199,
   "outputs": [],
   "source": [
    "Tx2 = np.array([x2_e1, x2_e2, x2_e3, x2_e4, x2_e5])"
   ],
   "metadata": {
    "collapsed": false,
    "pycharm": {
     "name": "#%%\n"
    }
   }
  },
  {
   "cell_type": "code",
   "execution_count": 200,
   "outputs": [
    {
     "data": {
      "text/plain": "array([[-1,  1,  0,  0],\n       [ 0, -1,  1,  0],\n       [ 0,  0, -1,  1],\n       [ 1,  0,  0, -1],\n       [ 1,  0, -1,  0]])"
     },
     "execution_count": 200,
     "metadata": {},
     "output_type": "execute_result"
    }
   ],
   "source": [
    "np.sum(Tx2, axis=1)"
   ],
   "metadata": {
    "collapsed": false,
    "pycharm": {
     "name": "#%%\n"
    }
   }
  },
  {
   "cell_type": "code",
   "execution_count": 201,
   "outputs": [
    {
     "data": {
      "text/plain": "array([[-1,  0,  0,  1,  1],\n       [ 1, -1,  0,  0,  0],\n       [ 0,  1, -1,  0, -1],\n       [ 0,  0,  1, -1,  0]])"
     },
     "execution_count": 201,
     "metadata": {},
     "output_type": "execute_result"
    }
   ],
   "source": [
    "np.sum(Tx2, axis=1).T"
   ],
   "metadata": {
    "collapsed": false,
    "pycharm": {
     "name": "#%%\n"
    }
   }
  },
  {
   "cell_type": "code",
   "execution_count": 202,
   "outputs": [
    {
     "data": {
      "text/plain": "array([[[0, 1, 0, 0],\n        [1, 0, 0, 0],\n        [0, 0, 0, 0],\n        [0, 0, 0, 0]],\n\n       [[0, 0, 0, 0],\n        [0, 0, 1, 0],\n        [0, 1, 0, 0],\n        [0, 0, 0, 0]],\n\n       [[0, 0, 0, 0],\n        [0, 0, 0, 0],\n        [0, 0, 0, 1],\n        [0, 0, 1, 0]],\n\n       [[0, 0, 0, 1],\n        [0, 0, 0, 0],\n        [0, 0, 0, 0],\n        [1, 0, 0, 0]],\n\n       [[0, 0, 1, 0],\n        [0, 0, 0, 0],\n        [1, 0, 0, 0],\n        [0, 0, 0, 0]]])"
     },
     "execution_count": 202,
     "metadata": {},
     "output_type": "execute_result"
    }
   ],
   "source": [
    "np.abs(Tx2)"
   ],
   "metadata": {
    "collapsed": false,
    "pycharm": {
     "name": "#%%\n"
    }
   }
  },
  {
   "cell_type": "code",
   "execution_count": 203,
   "outputs": [],
   "source": [
    "Q, R = np.linalg.qr(Tx2)"
   ],
   "metadata": {
    "collapsed": false,
    "pycharm": {
     "name": "#%%\n"
    }
   }
  },
  {
   "cell_type": "code",
   "execution_count": 205,
   "outputs": [
    {
     "data": {
      "text/plain": "array([[[ 1.,  0.,  0.,  0.],\n        [ 0., -1.,  0.,  0.],\n        [ 0.,  0.,  0.,  0.],\n        [ 0.,  0.,  0.,  0.]],\n\n       [[ 0.,  0.,  0.,  0.],\n        [ 0.,  1.,  0.,  0.],\n        [ 0.,  0., -1.,  0.],\n        [ 0.,  0.,  0.,  0.]],\n\n       [[ 0.,  0.,  0.,  0.],\n        [ 0.,  0.,  0.,  0.],\n        [ 0.,  0.,  1.,  0.],\n        [ 0.,  0.,  0., -1.]],\n\n       [[ 1.,  0.,  0.,  0.],\n        [ 0.,  0.,  0.,  0.],\n        [ 0.,  0.,  0.,  0.],\n        [ 0.,  0.,  0., -1.]],\n\n       [[ 1.,  0.,  0.,  0.],\n        [ 0.,  0.,  0.,  0.],\n        [ 0.,  0., -1.,  0.],\n        [ 0.,  0.,  0.,  0.]]])"
     },
     "execution_count": 205,
     "metadata": {},
     "output_type": "execute_result"
    }
   ],
   "source": [
    "Tx2 @ Q"
   ],
   "metadata": {
    "collapsed": false,
    "pycharm": {
     "name": "#%%\n"
    }
   }
  },
  {
   "cell_type": "code",
   "execution_count": 206,
   "outputs": [
    {
     "data": {
      "text/plain": "array([[-1.,  0.,  0., -1., -1.],\n       [ 1., -1.,  0.,  0.,  0.],\n       [ 0.,  1., -1.,  0.,  1.],\n       [ 0.,  0.,  1.,  1.,  0.]])"
     },
     "execution_count": 206,
     "metadata": {},
     "output_type": "execute_result"
    }
   ],
   "source": [
    "np.sum(R, axis=2).T"
   ],
   "metadata": {
    "collapsed": false,
    "pycharm": {
     "name": "#%%\n"
    }
   }
  },
  {
   "cell_type": "code",
   "execution_count": 207,
   "outputs": [],
   "source": [
    "s, v,d, =np.linalg.svd(Tx2)"
   ],
   "metadata": {
    "collapsed": false,
    "pycharm": {
     "name": "#%%\n"
    }
   }
  },
  {
   "cell_type": "code",
   "execution_count": 208,
   "outputs": [
    {
     "data": {
      "text/plain": "array([[[ 1.,  0.,  0.,  0.],\n        [ 0., -1.,  0.,  0.],\n        [ 0.,  0.,  0.,  0.],\n        [ 0.,  0.,  0.,  0.]],\n\n       [[ 0.,  0.,  0.,  0.],\n        [ 0.,  1.,  0.,  0.],\n        [-1.,  0.,  0.,  0.],\n        [ 0.,  0.,  0.,  0.]],\n\n       [[ 0.,  0.,  0.,  0.],\n        [ 0.,  0.,  0.,  0.],\n        [ 1.,  0.,  0.,  0.],\n        [ 0., -1.,  0.,  0.]],\n\n       [[ 1.,  0.,  0.,  0.],\n        [ 0.,  0.,  0.,  0.],\n        [ 0.,  0.,  0.,  0.],\n        [ 0., -1.,  0.,  0.]],\n\n       [[ 1.,  0.,  0.,  0.],\n        [ 0.,  0.,  0.,  0.],\n        [ 0., -1.,  0.,  0.],\n        [ 0.,  0.,  0.,  0.]]])"
     },
     "execution_count": 208,
     "metadata": {},
     "output_type": "execute_result"
    }
   ],
   "source": [
    "Tx2 @ s"
   ],
   "metadata": {
    "collapsed": false,
    "pycharm": {
     "name": "#%%\n"
    }
   }
  },
  {
   "cell_type": "code",
   "execution_count": 209,
   "outputs": [
    {
     "data": {
      "text/plain": "array([[[[ 0.,  1.,  0.,  0.],\n         [ 0., -1.,  0.,  0.],\n         [ 0.,  0.,  0.,  1.],\n         [ 0.,  0.,  0.,  1.],\n         [ 0.,  0.,  1.,  0.]],\n\n        [[ 1.,  0.,  0.,  0.],\n         [ 0.,  0., -1.,  0.],\n         [ 0.,  0.,  1.,  0.],\n         [ 1.,  0.,  0.,  0.],\n         [ 1.,  0.,  0.,  0.]],\n\n        [[ 0.,  0.,  0.,  0.],\n         [ 0.,  0.,  0.,  0.],\n         [ 0.,  0.,  0.,  0.],\n         [ 0.,  0.,  0.,  0.],\n         [ 0.,  0.,  0.,  0.]],\n\n        [[ 0.,  0.,  0.,  0.],\n         [ 0.,  0.,  0.,  0.],\n         [ 0.,  0.,  0.,  0.],\n         [ 0.,  0.,  0.,  0.],\n         [ 0.,  0.,  0.,  0.]]],\n\n\n       [[[ 0.,  0.,  0.,  0.],\n         [ 0.,  0.,  0.,  0.],\n         [ 0.,  0.,  0.,  0.],\n         [ 0.,  0.,  0.,  0.],\n         [ 0.,  0.,  0.,  0.]],\n\n        [[ 0.,  0.,  1.,  0.],\n         [ 1.,  0.,  0.,  0.],\n         [ 1.,  0.,  0.,  0.],\n         [ 0.,  1.,  0.,  0.],\n         [ 0.,  1.,  0.,  0.]],\n\n        [[ 0., -1.,  0.,  0.],\n         [ 0.,  1.,  0.,  0.],\n         [ 0.,  0.,  0., -1.],\n         [ 0.,  0.,  0., -1.],\n         [ 0.,  0., -1.,  0.]],\n\n        [[ 0.,  0.,  0.,  0.],\n         [ 0.,  0.,  0.,  0.],\n         [ 0.,  0.,  0.,  0.],\n         [ 0.,  0.,  0.,  0.],\n         [ 0.,  0.,  0.,  0.]]],\n\n\n       [[[ 0.,  0.,  0.,  0.],\n         [ 0.,  0.,  0.,  0.],\n         [ 0.,  0.,  0.,  0.],\n         [ 0.,  0.,  0.,  0.],\n         [ 0.,  0.,  0.,  0.]],\n\n        [[ 0.,  0.,  0.,  0.],\n         [ 0.,  0.,  0.,  0.],\n         [ 0.,  0.,  0.,  0.],\n         [ 0.,  0.,  0.,  0.],\n         [ 0.,  0.,  0.,  0.]],\n\n        [[ 0.,  0.,  0.,  1.],\n         [ 0.,  0.,  0.,  1.],\n         [ 0.,  1.,  0.,  0.],\n         [ 0.,  0.,  1.,  0.],\n         [ 0.,  0.,  0.,  1.]],\n\n        [[ 0.,  0., -1.,  0.],\n         [-1.,  0.,  0.,  0.],\n         [-1.,  0.,  0.,  0.],\n         [ 0., -1.,  0.,  0.],\n         [ 0., -1.,  0.,  0.]]],\n\n\n       [[[ 0.,  0.,  0., -1.],\n         [ 0.,  0.,  0., -1.],\n         [ 0., -1.,  0.,  0.],\n         [ 0.,  0., -1.,  0.],\n         [ 0.,  0.,  0., -1.]],\n\n        [[ 0.,  0.,  0.,  0.],\n         [ 0.,  0.,  0.,  0.],\n         [ 0.,  0.,  0.,  0.],\n         [ 0.,  0.,  0.,  0.],\n         [ 0.,  0.,  0.,  0.]],\n\n        [[ 0.,  0.,  0.,  0.],\n         [ 0.,  0.,  0.,  0.],\n         [ 0.,  0.,  0.,  0.],\n         [ 0.,  0.,  0.,  0.],\n         [ 0.,  0.,  0.,  0.]],\n\n        [[-1.,  0.,  0.,  0.],\n         [ 0.,  0.,  1.,  0.],\n         [ 0.,  0., -1.,  0.],\n         [-1.,  0.,  0.,  0.],\n         [-1.,  0.,  0.,  0.]]],\n\n\n       [[[ 0.,  0., -1.,  0.],\n         [-1.,  0.,  0.,  0.],\n         [-1.,  0.,  0.,  0.],\n         [ 0., -1.,  0.,  0.],\n         [ 0., -1.,  0.,  0.]],\n\n        [[ 0.,  0.,  0.,  0.],\n         [ 0.,  0.,  0.,  0.],\n         [ 0.,  0.,  0.,  0.],\n         [ 0.,  0.,  0.,  0.],\n         [ 0.,  0.,  0.,  0.]],\n\n        [[-1.,  0.,  0.,  0.],\n         [ 0.,  0.,  1.,  0.],\n         [ 0.,  0., -1.,  0.],\n         [-1.,  0.,  0.,  0.],\n         [-1.,  0.,  0.,  0.]],\n\n        [[ 0.,  0.,  0.,  0.],\n         [ 0.,  0.,  0.,  0.],\n         [ 0.,  0.,  0.,  0.],\n         [ 0.,  0.,  0.,  0.],\n         [ 0.,  0.,  0.,  0.]]]])"
     },
     "execution_count": 209,
     "metadata": {},
     "output_type": "execute_result"
    }
   ],
   "source": [
    "np.dot(Tx2, d)"
   ],
   "metadata": {
    "collapsed": false,
    "pycharm": {
     "name": "#%%\n"
    }
   }
  },
  {
   "cell_type": "code",
   "execution_count": 212,
   "outputs": [
    {
     "data": {
      "text/plain": "array([[[ 1.,  1.,  0.,  0.],\n        [ 0., -1., -1.,  0.],\n        [ 0.,  0.,  1.,  1.],\n        [ 1.,  0.,  0.,  1.],\n        [ 1.,  0.,  1.,  0.]],\n\n       [[ 0., -1.,  1.,  0.],\n        [ 1.,  1.,  0.,  0.],\n        [ 1.,  0.,  0., -1.],\n        [ 0.,  1.,  0., -1.],\n        [ 0.,  1., -1.,  0.]],\n\n       [[ 0.,  0., -1.,  1.],\n        [-1.,  0.,  0.,  1.],\n        [-1.,  1.,  0.,  0.],\n        [ 0., -1.,  1.,  0.],\n        [ 0., -1.,  0.,  1.]],\n\n       [[-1.,  0.,  0., -1.],\n        [ 0.,  0.,  1., -1.],\n        [ 0., -1., -1.,  0.],\n        [-1.,  0., -1.,  0.],\n        [-1.,  0.,  0., -1.]],\n\n       [[-1.,  0., -1.,  0.],\n        [-1.,  0.,  1.,  0.],\n        [-1.,  0., -1.,  0.],\n        [-1., -1.,  0.,  0.],\n        [-1., -1.,  0.,  0.]]])"
     },
     "execution_count": 212,
     "metadata": {},
     "output_type": "execute_result"
    }
   ],
   "source": [
    "np.sum(np.dot(Tx2, d), axis=1)"
   ],
   "metadata": {
    "collapsed": false,
    "pycharm": {
     "name": "#%%\n"
    }
   }
  },
  {
   "cell_type": "code",
   "execution_count": 216,
   "outputs": [
    {
     "data": {
      "text/plain": "array([[ 3.,  0.,  0.,  0.],\n       [ 0.,  0.,  0.,  0.],\n       [ 0., -1.,  0.,  0.],\n       [ 0., -2.,  0.,  0.]])"
     },
     "execution_count": 216,
     "metadata": {},
     "output_type": "execute_result"
    }
   ],
   "source": [
    "np.sum(Tx2 @ s, axis=0)"
   ],
   "metadata": {
    "collapsed": false,
    "pycharm": {
     "name": "#%%\n"
    }
   }
  },
  {
   "cell_type": "markdown",
   "source": [],
   "metadata": {
    "collapsed": false,
    "pycharm": {
     "name": "#%% md\n"
    }
   }
  },
  {
   "cell_type": "code",
   "execution_count": 220,
   "outputs": [],
   "source": [
    "diag_x2 = np.eye(4) * np.sum(Tx2, axis=1)[:, np.newaxis, :]"
   ],
   "metadata": {
    "collapsed": false,
    "pycharm": {
     "name": "#%%\n"
    }
   }
  },
  {
   "cell_type": "code",
   "execution_count": 221,
   "outputs": [],
   "source": [
    "diag_x2 = np.where(diag_x2 > 0, diag_x2, 0)"
   ],
   "metadata": {
    "collapsed": false,
    "pycharm": {
     "name": "#%%\n"
    }
   }
  },
  {
   "cell_type": "code",
   "execution_count": 222,
   "outputs": [
    {
     "data": {
      "text/plain": "array([[[0., 0., 0., 0.],\n        [0., 1., 0., 0.],\n        [0., 0., 0., 0.],\n        [0., 0., 0., 0.]],\n\n       [[0., 0., 0., 0.],\n        [0., 0., 0., 0.],\n        [0., 0., 1., 0.],\n        [0., 0., 0., 0.]],\n\n       [[0., 0., 0., 0.],\n        [0., 0., 0., 0.],\n        [0., 0., 0., 0.],\n        [0., 0., 0., 1.]],\n\n       [[1., 0., 0., 0.],\n        [0., 0., 0., 0.],\n        [0., 0., 0., 0.],\n        [0., 0., 0., 0.]],\n\n       [[1., 0., 0., 0.],\n        [0., 0., 0., 0.],\n        [0., 0., 0., 0.],\n        [0., 0., 0., 0.]]])"
     },
     "execution_count": 222,
     "metadata": {},
     "output_type": "execute_result"
    }
   ],
   "source": [
    "diag_x2"
   ],
   "metadata": {
    "collapsed": false,
    "pycharm": {
     "name": "#%%\n"
    }
   }
  },
  {
   "cell_type": "code",
   "execution_count": 223,
   "outputs": [],
   "source": [
    "Lx = diag_x2 - np.where(Tx2 > 0, Tx2, 0)"
   ],
   "metadata": {
    "collapsed": false,
    "pycharm": {
     "name": "#%%\n"
    }
   }
  },
  {
   "cell_type": "code",
   "execution_count": 224,
   "outputs": [],
   "source": [
    "proj_Lx = np.sum(Lx, axis=0)"
   ],
   "metadata": {
    "collapsed": false,
    "pycharm": {
     "name": "#%%\n"
    }
   }
  },
  {
   "cell_type": "code",
   "execution_count": 225,
   "outputs": [
    {
     "data": {
      "text/plain": "8.047189562170502"
     },
     "execution_count": 225,
     "metadata": {},
     "output_type": "execute_result"
    }
   ],
   "source": [
    "np.trace(proj_Lx)*np.log(np.trace(proj_Lx))"
   ],
   "metadata": {
    "collapsed": false,
    "pycharm": {
     "name": "#%%\n"
    }
   }
  },
  {
   "cell_type": "code",
   "execution_count": 227,
   "outputs": [],
   "source": [
    "e, v = np.linalg.eig(Lx)"
   ],
   "metadata": {
    "collapsed": false,
    "pycharm": {
     "name": "#%%\n"
    }
   }
  },
  {
   "cell_type": "code",
   "execution_count": 240,
   "outputs": [
    {
     "name": "stderr",
     "output_type": "stream",
     "text": [
      "C:\\Users\\keret\\AppData\\Local\\Temp\\ipykernel_23376\\727744675.py:1: RuntimeWarning: divide by zero encountered in log\n",
      "  -e*np.log(e)\n",
      "C:\\Users\\keret\\AppData\\Local\\Temp\\ipykernel_23376\\727744675.py:1: RuntimeWarning: invalid value encountered in multiply\n",
      "  -e*np.log(e)\n"
     ]
    },
    {
     "data": {
      "text/plain": "array([[nan, -0., nan, nan],\n       [nan, nan, -0., nan],\n       [nan, nan, nan, -0.],\n       [nan, -0., nan, nan],\n       [nan, -0., nan, nan]])"
     },
     "execution_count": 240,
     "metadata": {},
     "output_type": "execute_result"
    }
   ],
   "source": [
    "-e*np.log(e)"
   ],
   "metadata": {
    "collapsed": false,
    "pycharm": {
     "name": "#%%\n"
    }
   }
  },
  {
   "cell_type": "code",
   "execution_count": 241,
   "outputs": [
    {
     "data": {
      "text/plain": "array([[0., 1., 0., 0.],\n       [0., 0., 1., 0.],\n       [0., 0., 0., 1.],\n       [0., 1., 0., 0.],\n       [0., 1., 0., 0.]])"
     },
     "execution_count": 241,
     "metadata": {},
     "output_type": "execute_result"
    }
   ],
   "source": [
    "e"
   ],
   "metadata": {
    "collapsed": false,
    "pycharm": {
     "name": "#%%\n"
    }
   }
  },
  {
   "cell_type": "code",
   "execution_count": 242,
   "outputs": [
    {
     "data": {
      "text/plain": "array([[[ 0., -1.,  0.,  0.],\n        [ 0.,  1.,  0.,  0.],\n        [ 0.,  0.,  0.,  0.],\n        [ 0.,  0.,  0.,  0.]],\n\n       [[ 0.,  0.,  0.,  0.],\n        [ 0.,  0., -1.,  0.],\n        [ 0.,  0.,  1.,  0.],\n        [ 0.,  0.,  0.,  0.]],\n\n       [[ 0.,  0.,  0.,  0.],\n        [ 0.,  0.,  0.,  0.],\n        [ 0.,  0.,  0., -1.],\n        [ 0.,  0.,  0.,  1.]],\n\n       [[ 1.,  0.,  0.,  0.],\n        [ 0.,  0.,  0.,  0.],\n        [ 0.,  0.,  0.,  0.],\n        [-1.,  0.,  0.,  0.]],\n\n       [[ 1.,  0.,  0.,  0.],\n        [ 0.,  0.,  0.,  0.],\n        [-1.,  0.,  0.,  0.],\n        [ 0.,  0.,  0.,  0.]]])"
     },
     "execution_count": 242,
     "metadata": {},
     "output_type": "execute_result"
    }
   ],
   "source": [
    "Lx"
   ],
   "metadata": {
    "collapsed": false,
    "pycharm": {
     "name": "#%%\n"
    }
   }
  },
  {
   "cell_type": "markdown",
   "source": [
    "## Factor graph"
   ],
   "metadata": {
    "collapsed": false,
    "pycharm": {
     "name": "#%% md\n"
    }
   }
  },
  {
   "cell_type": "code",
   "execution_count": 243,
   "outputs": [],
   "source": [
    "x2_e1 = np.array([[0, 0, 0, -1, -1],\n",
    "                  [0, 0, 0, -1, -1],\n",
    "                  [0, 0, 0, 0, 0],\n",
    "                  [1, 1, 0, 0, 0],\n",
    "                  [1, 1, 0, 0, 0]])\n",
    "x2_e2 = np.array([[0, 0, 0, 0, 0],\n",
    "                  [0, 0, 0, 0, 1],\n",
    "                  [0, 0, 0, 0, 1],\n",
    "                  [0, 0, 0, 0, 0],\n",
    "                  [0, -1, -1, 0, 0]])\n",
    "Tx = np.array([x2_e1,x2_e2])"
   ],
   "metadata": {
    "collapsed": false,
    "pycharm": {
     "name": "#%%\n"
    }
   }
  },
  {
   "cell_type": "code",
   "execution_count": 247,
   "outputs": [],
   "source": [
    "diag_x3 = np.eye(5) * np.sum(Tx, axis=1)[:, np.newaxis, :]\n",
    "diag_x3 = np.where(diag_x3 > 0, diag_x3, 0)"
   ],
   "metadata": {
    "collapsed": false,
    "pycharm": {
     "name": "#%%\n"
    }
   }
  },
  {
   "cell_type": "code",
   "execution_count": 255,
   "outputs": [
    {
     "data": {
      "text/plain": "array([[[2., 0., 0., 0., 0.],\n        [0., 2., 0., 0., 0.],\n        [0., 0., 0., 0., 0.],\n        [0., 0., 0., 0., 0.],\n        [0., 0., 0., 0., 0.]],\n\n       [[0., 0., 0., 0., 0.],\n        [0., 0., 0., 0., 0.],\n        [0., 0., 0., 0., 0.],\n        [0., 0., 0., 0., 0.],\n        [0., 0., 0., 0., 2.]]])"
     },
     "execution_count": 255,
     "metadata": {},
     "output_type": "execute_result"
    }
   ],
   "source": [
    "diag_x3"
   ],
   "metadata": {
    "collapsed": false,
    "pycharm": {
     "name": "#%%\n"
    }
   }
  },
  {
   "cell_type": "code",
   "execution_count": 253,
   "outputs": [],
   "source": [
    "Lx = diag_x3 - np.where(Tx > 0, Tx, 0)"
   ],
   "metadata": {
    "collapsed": false,
    "pycharm": {
     "name": "#%%\n"
    }
   }
  },
  {
   "cell_type": "code",
   "execution_count": 254,
   "outputs": [
    {
     "data": {
      "text/plain": "array([[[ 2.,  0.,  0.,  0.,  0.],\n        [ 0.,  2.,  0.,  0.,  0.],\n        [ 0.,  0.,  0.,  0.,  0.],\n        [-1., -1.,  0.,  0.,  0.],\n        [-1., -1.,  0.,  0.,  0.]],\n\n       [[ 0.,  0.,  0.,  0.,  0.],\n        [ 0.,  0.,  0.,  0., -1.],\n        [ 0.,  0.,  0.,  0., -1.],\n        [ 0.,  0.,  0.,  0.,  0.],\n        [ 0.,  0.,  0.,  0.,  2.]]])"
     },
     "execution_count": 254,
     "metadata": {},
     "output_type": "execute_result"
    }
   ],
   "source": [
    "Lx"
   ],
   "metadata": {
    "collapsed": false,
    "pycharm": {
     "name": "#%%\n"
    }
   }
  },
  {
   "cell_type": "code",
   "execution_count": 256,
   "outputs": [],
   "source": [
    "e, v = np.linalg.eig(Lx)"
   ],
   "metadata": {
    "collapsed": false,
    "pycharm": {
     "name": "#%%\n"
    }
   }
  },
  {
   "cell_type": "code",
   "execution_count": 257,
   "outputs": [
    {
     "data": {
      "text/plain": "array([[0., 0., 2., 2., 0.],\n       [0., 0., 0., 0., 2.]])"
     },
     "execution_count": 257,
     "metadata": {},
     "output_type": "execute_result"
    }
   ],
   "source": [
    "e"
   ],
   "metadata": {
    "collapsed": false,
    "pycharm": {
     "name": "#%%\n"
    }
   }
  },
  {
   "cell_type": "code",
   "execution_count": 260,
   "outputs": [
    {
     "name": "stderr",
     "output_type": "stream",
     "text": [
      "C:\\Users\\keret\\AppData\\Local\\Temp\\ipykernel_23376\\3587633688.py:1: RuntimeWarning: divide by zero encountered in log2\n",
      "  -e*np.log2(e)\n",
      "C:\\Users\\keret\\AppData\\Local\\Temp\\ipykernel_23376\\3587633688.py:1: RuntimeWarning: invalid value encountered in multiply\n",
      "  -e*np.log2(e)\n"
     ]
    },
    {
     "data": {
      "text/plain": "array([[nan, nan, -2., -2., nan],\n       [nan, nan, nan, nan, -2.]])"
     },
     "execution_count": 260,
     "metadata": {},
     "output_type": "execute_result"
    }
   ],
   "source": [
    "-e*np.log2(e)"
   ],
   "metadata": {
    "collapsed": false,
    "pycharm": {
     "name": "#%%\n"
    }
   }
  },
  {
   "cell_type": "code",
   "execution_count": 261,
   "outputs": [],
   "source": [
    "proj_Lx = np.sum(Lx, axis=0)"
   ],
   "metadata": {
    "collapsed": false,
    "pycharm": {
     "name": "#%%\n"
    }
   }
  },
  {
   "cell_type": "code",
   "execution_count": 262,
   "outputs": [
    {
     "data": {
      "text/plain": "10.75055681536833"
     },
     "execution_count": 262,
     "metadata": {},
     "output_type": "execute_result"
    }
   ],
   "source": [
    "np.trace(proj_Lx)*np.log(np.trace(proj_Lx))"
   ],
   "metadata": {
    "collapsed": false,
    "pycharm": {
     "name": "#%%\n"
    }
   }
  },
  {
   "cell_type": "code",
   "execution_count": null,
   "outputs": [],
   "source": [],
   "metadata": {
    "collapsed": false,
    "pycharm": {
     "name": "#%%\n"
    }
   }
  }
 ],
 "metadata": {
  "kernelspec": {
   "display_name": "Python 3",
   "language": "python",
   "name": "python3"
  },
  "language_info": {
   "codemirror_mode": {
    "name": "ipython",
    "version": 2
   },
   "file_extension": ".py",
   "mimetype": "text/x-python",
   "name": "python",
   "nbconvert_exporter": "python",
   "pygments_lexer": "ipython2",
   "version": "2.7.6"
  }
 },
 "nbformat": 4,
 "nbformat_minor": 0
}